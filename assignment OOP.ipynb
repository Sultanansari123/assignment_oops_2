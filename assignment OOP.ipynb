{
 "cells": [
  {
   "cell_type": "markdown",
   "id": "cae99eea-258f-4865-b24f-4213b8c7aeb2",
   "metadata": {},
   "source": [
    "# Ans1-"
   ]
  },
  {
   "cell_type": "code",
   "execution_count": 4,
   "id": "0d45f365-7461-4b68-b0ec-6d558f66cbbe",
   "metadata": {},
   "outputs": [
    {
     "name": "stdout",
     "output_type": "stream",
     "text": [
      "name of vehicle:Car,\n",
      " max_speed:40km/hr,\n",
      "average:25mpg\n"
     ]
    }
   ],
   "source": [
    "class vehicle:\n",
    "    def __init__(self,name_of_vehicle,max_speed, average_of_vehicle):\n",
    "        self.name_of_vehicle=name_of_vehicle\n",
    "        self.max_speed=max_speed\n",
    "        self.average_of_vehicle=average_of_vehicle\n",
    "# Example usage:\n",
    "car=vehicle(name_of_vehicle='Car',max_speed=40,average_of_vehicle=25)\n",
    "print(f\"name of vehicle:{car.name_of_vehicle},\\n max_speed:{car.max_speed}km/hr,\\naverage:{car.average_of_vehicle}mpg\")"
   ]
  },
  {
   "cell_type": "markdown",
   "id": "233ec072-1707-4f54-8b08-deefcbf4878b",
   "metadata": {},
   "source": [
    "# Ans2-"
   ]
  },
  {
   "cell_type": "code",
   "execution_count": 9,
   "id": "921fe13e-4533-4b08-8938-0e4962708fe0",
   "metadata": {},
   "outputs": [
    {
     "name": "stdout",
     "output_type": "stream",
     "text": [
      "capacity result: Car has a seating capacity of 5 people\n"
     ]
    }
   ],
   "source": [
    "class Vehicle:\n",
    "    def __init__(self, name_of_vehicle, max_speed, average_of_vehicle):\n",
    "        self.name_of_vehicle = name_of_vehicle\n",
    "        self.max_speed = max_speed\n",
    "        self.average_of_vehicle = average_of_vehicle\n",
    "class Car(Vehicle):\n",
    "    def __init__(self,name_of_vehicle,max_speed,average_of_vehicle):\n",
    "        super().__init__(name_of_vehicle,max_speed,average_of_vehicle)\n",
    "    def seating_capacity(self,capacity):\n",
    "        return f\"{self.name_of_vehicle} has a seating capacity of {capacity} people\"\n",
    "# create a car instance\n",
    "Car_obj=Car(name_of_vehicle='Car',max_speed=200,average_of_vehicle=25)\n",
    "capacity_result=Car_obj.seating_capacity(capacity=5)\n",
    "print(\"capacity result:\",capacity_result)\n",
    "    "
   ]
  },
  {
   "cell_type": "markdown",
   "id": "3bdb05ba-2fd8-470f-bc41-a0bec1497f6d",
   "metadata": {},
   "source": [
    "# Ans3-"
   ]
  },
  {
   "cell_type": "markdown",
   "id": "9050b358-e3e9-4a7a-9f00-9bfbf94acf68",
   "metadata": {},
   "source": [
    "multiple inheritance means  where a class can inherit attributes and methods from more than one parent class."
   ]
  },
  {
   "cell_type": "code",
   "execution_count": 10,
   "id": "38688251-d331-4ac4-aad7-bf580ab1c5f1",
   "metadata": {},
   "outputs": [
    {
     "name": "stdout",
     "output_type": "stream",
     "text": [
      "This is a Parrot\n",
      "Flying high!\n",
      "This is a Goldfish\n",
      "Swimming gracefully!\n"
     ]
    }
   ],
   "source": [
    "class Animal:\n",
    "    def __init__(self, species):\n",
    "        self.species = species\n",
    "\n",
    "    def show_species(self):\n",
    "        print(f\"This is a {self.species}\")\n",
    "\n",
    "class CanFly:\n",
    "    def fly(self):\n",
    "        print(\"Flying high!\")\n",
    "\n",
    "class CanSwim:\n",
    "    def swim(self):\n",
    "        print(\"Swimming gracefully!\")\n",
    "\n",
    "class Bird(Animal, CanFly):\n",
    "    def __init__(self, species, wingspan):\n",
    "        super().__init__(species)\n",
    "        self.wingspan = wingspan\n",
    "\n",
    "class Fish(Animal, CanSwim):\n",
    "    def __init__(self, species, fin_length):\n",
    "        super().__init__(species)\n",
    "        self.fin_length = fin_length\n",
    "\n",
    "# Example usage:\n",
    "parrot = Bird(species=\"Parrot\", wingspan=50)\n",
    "parrot.show_species()\n",
    "parrot.fly()\n",
    "\n",
    "goldfish = Fish(species=\"Goldfish\", fin_length=15)\n",
    "goldfish.show_species()\n",
    "goldfish.swim()\n"
   ]
  },
  {
   "cell_type": "code",
   "execution_count": 24,
   "id": "353fb2eb-b5d0-4b41-a2e1-edfa442a2b10",
   "metadata": {},
   "outputs": [
    {
     "name": "stdout",
     "output_type": "stream",
     "text": [
      "Child name: Sultan\n",
      "Father name: jamshed\n",
      "Mother name: jaibun nesha\n"
     ]
    }
   ],
   "source": [
    "# Or \n",
    "class father:\n",
    "    def __init__(self,f_name):\n",
    "        self.f_name='jamshed'\n",
    "class mother:\n",
    "    def __init__(self,m_name):\n",
    "        self.m_name='jaibun nesha'\n",
    "class Child(father,mother):\n",
    "    def __init__(self,f_name,m_name,c_name):\n",
    "        super().__init__(f_name)\n",
    "        mother.__init__(self,m_name)\n",
    "        self.c_name=c_name\n",
    "child_obj = Child(c_name='Sultan', f_name='Jamshed', m_name='Jaibun Nesha')\n",
    "print(f\"Child name: {child_obj.c_name}\")\n",
    "print(f\"Father name: {child_obj.f_name}\")\n",
    "print(f\"Mother name: {child_obj.m_name}\")\n",
    "      "
   ]
  },
  {
   "cell_type": "code",
   "execution_count": 27,
   "id": "2b07e64f-3a0e-420f-9524-8229c1cbc543",
   "metadata": {},
   "outputs": [
    {
     "name": "stdout",
     "output_type": "stream",
     "text": [
      "Child name: Sultan\n",
      "Father name: Jamshed\n",
      "Mother name: Jaibun Nesha\n"
     ]
    }
   ],
   "source": [
    "class Father:\n",
    "    def __init__(self, f_name):\n",
    "        self.f_name = f_name\n",
    "\n",
    "class Mother:\n",
    "    def __init__(self, m_name):\n",
    "        self.m_name = m_name\n",
    "\n",
    "class Child(Father, Mother):\n",
    "    def __init__(self, c_name, f_name, m_name):\n",
    "        Father.__init__(self,f_name)\n",
    "        Mother.__init__(self,m_name)  # Using super() for Mother class\n",
    "        self.c_name = c_name\n",
    "\n",
    "child_obj = Child(c_name='Sultan', f_name='Jamshed', m_name='Jaibun Nesha')\n",
    "print(f\"Child name: {child_obj.c_name}\")\n",
    "print(f\"Father name: {child_obj.f_name}\")\n",
    "print(f\"Mother name: {child_obj.m_name}\")\n"
   ]
  },
  {
   "cell_type": "markdown",
   "id": "534ce7a3-3435-4264-84a5-0c21cfd8bfea",
   "metadata": {},
   "source": [
    "# Ans4-"
   ]
  },
  {
   "cell_type": "markdown",
   "id": "a72bb80f-7dd1-4b68-b6ff-829450820b08",
   "metadata": {},
   "source": [
    "In python  getter and setter methods are used to retrieve and modify the values of private attributes of a class,"
   ]
  },
  {
   "cell_type": "code",
   "execution_count": 29,
   "id": "52746dec-e5bf-41c1-90ca-e028aa773d86",
   "metadata": {},
   "outputs": [
    {
     "name": "stdout",
     "output_type": "stream",
     "text": [
      "None\n",
      "42\n"
     ]
    }
   ],
   "source": [
    "class MyClass:\n",
    "    def __init__(self):\n",
    "        self._my_private_attribute = None  # private attribute with a leading underscore\n",
    "\n",
    "    @property\n",
    "    def my_attribute(self):  # getter method\n",
    "        return self._my_private_attribute\n",
    "\n",
    "    @my_attribute.setter\n",
    "    def my_attribute(self, value):  # setter method\n",
    "        self._my_private_attribute = value\n",
    "\n",
    "# Example usage:\n",
    "obj = MyClass()\n",
    "print(obj.my_attribute) \n",
    "obj.my_attribute = 42  # setter\n",
    "print(obj.my_attribute)  # getter\n"
   ]
  },
  {
   "cell_type": "markdown",
   "id": "651191b4-96a1-463c-9096-aae0ed1b0b71",
   "metadata": {},
   "source": [
    "# Ans5-"
   ]
  },
  {
   "cell_type": "code",
   "execution_count": 30,
   "id": "f6b4b4dd-eb9a-4ec8-8559-f51505bf1816",
   "metadata": {},
   "outputs": [
    {
     "name": "stdout",
     "output_type": "stream",
     "text": [
      "Generic animal sound\n",
      "Bark\n",
      "Meow\n"
     ]
    }
   ],
   "source": [
    "class Animal:\n",
    "    def make_sound(self):\n",
    "        print(\"Generic animal sound\")\n",
    "\n",
    "class Dog(Animal):\n",
    "    def make_sound(self):\n",
    "        print(\"Bark\")\n",
    "\n",
    "class Cat(Animal):\n",
    "    def make_sound(self):\n",
    "        print(\"Meow\")\n",
    "\n",
    "# Example usage:\n",
    "generic_animal = Animal()\n",
    "generic_animal.make_sound()  # Output: Generic animal sound\n",
    "\n",
    "dog = Dog()\n",
    "dog.make_sound()  # Output: Bark\n",
    "\n",
    "cat = Cat()\n",
    "cat.make_sound()  # Output: Meow\n"
   ]
  },
  {
   "cell_type": "code",
   "execution_count": null,
   "id": "013663a2-8338-4ece-8b3a-d2077c58288f",
   "metadata": {},
   "outputs": [],
   "source": []
  }
 ],
 "metadata": {
  "kernelspec": {
   "display_name": "Python 3 (ipykernel)",
   "language": "python",
   "name": "python3"
  },
  "language_info": {
   "codemirror_mode": {
    "name": "ipython",
    "version": 3
   },
   "file_extension": ".py",
   "mimetype": "text/x-python",
   "name": "python",
   "nbconvert_exporter": "python",
   "pygments_lexer": "ipython3",
   "version": "3.10.8"
  }
 },
 "nbformat": 4,
 "nbformat_minor": 5
}
